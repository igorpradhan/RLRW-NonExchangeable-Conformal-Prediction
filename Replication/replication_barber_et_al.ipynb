{
 "cells": [
  {
   "cell_type": "code",
   "execution_count": 1,
   "metadata": {},
   "outputs": [],
   "source": [
    "import numpy as np\n",
    "import pandas as pd\n",
    "import matplotlib.pyplot as plt\n",
    "import statsmodels.api as sm"
   ]
  },
  {
   "cell_type": "markdown",
   "metadata": {},
   "source": [
    "# SETTING 1"
   ]
  },
  {
   "cell_type": "code",
   "execution_count": 2,
   "metadata": {},
   "outputs": [],
   "source": [
    "X = []\n",
    "Y = []\n",
    "beta = [2, 1, 0, 0]\n",
    "for i in range(5):\n",
    "    rdnorm_4d = np.random.randn(1, 4)\n",
    "    X.append(rdnorm_4d)\n",
    "    \n",
    "    Y.append(np.dot(rdnorm_4d, beta) + np.random.randn(1))\n",
    "    "
   ]
  },
  {
   "cell_type": "code",
   "execution_count": 3,
   "metadata": {},
   "outputs": [
    {
     "data": {
      "text/plain": [
       "[array([[-0.52917821, -0.34327668, -0.0707058 ,  0.29983096]]),\n",
       " array([[-0.05343042, -0.52423847, -0.31718531, -0.73352361]]),\n",
       " array([[ 0.97629413, -0.82191998,  1.44064248,  1.09801481]]),\n",
       " array([[ 0.32117632, -0.57403546,  0.29700136, -0.47120334]]),\n",
       " array([[-0.50766793,  1.56112719, -1.15920199,  0.11542984]])]"
      ]
     },
     "execution_count": 3,
     "metadata": {},
     "output_type": "execute_result"
    }
   ],
   "source": [
    "X"
   ]
  },
  {
   "cell_type": "code",
   "execution_count": 4,
   "metadata": {},
   "outputs": [
    {
     "data": {
      "text/plain": [
       "[array([-2.0796582]),\n",
       " array([-0.53906381]),\n",
       " array([2.41798146]),\n",
       " array([1.23000986]),\n",
       " array([1.44092702])]"
      ]
     },
     "execution_count": 4,
     "metadata": {},
     "output_type": "execute_result"
    }
   ],
   "source": [
    "Y"
   ]
  },
  {
   "cell_type": "code",
   "execution_count": null,
   "metadata": {},
   "outputs": [],
   "source": []
  }
 ],
 "metadata": {
  "kernelspec": {
   "display_name": "venv",
   "language": "python",
   "name": "python3"
  },
  "language_info": {
   "codemirror_mode": {
    "name": "ipython",
    "version": 3
   },
   "file_extension": ".py",
   "mimetype": "text/x-python",
   "name": "python",
   "nbconvert_exporter": "python",
   "pygments_lexer": "ipython3",
   "version": "3.10.10"
  }
 },
 "nbformat": 4,
 "nbformat_minor": 2
}
