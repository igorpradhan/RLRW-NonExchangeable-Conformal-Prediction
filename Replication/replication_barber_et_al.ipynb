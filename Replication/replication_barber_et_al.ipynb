{
 "cells": [
  {
   "cell_type": "code",
   "execution_count": null,
   "metadata": {},
   "outputs": [],
   "source": [
    "import numpy as np\n",
    "import pandas as pd\n",
    "import matplotlib.pyplot as plt\n",
    "import statsmodels.api as sm\n",
    "\n",
    "from tqdm import tqdm\n",
    "from sklearn.linear_model import LinearRegression\n",
    "import time"
   ]
  },
  {
   "cell_type": "markdown",
   "metadata": {},
   "source": [
    "# SETTING 1"
   ]
  },
  {
   "cell_type": "code",
   "execution_count": 118,
   "metadata": {},
   "outputs": [],
   "source": [
    "def split_conformal_bands(predictor, \n",
    "                          X_test,  \n",
    "                          X_cal, \n",
    "                          y_cal,\n",
    "                          qiantiles,\n",
    "                          alpha = 0.95\n",
    "):\n",
    "    cal_mean_predictions = predictor.predict(X_cal)\n",
    "    S_score = np.abs(y_cal - cal_mean_predictions)\n",
    "    quantile = np.nanquantile(S_score, 1 - alpha, method = \"higher\")\n",
    "    \n",
    "    mean_predictions = predictor.predict(X_test)\n",
    "    prediction_bands = np.stack([\n",
    "        mean_predictions - quantile,\n",
    "        mean_predictions + quantile\n",
    "    ], axis = 1)\n",
    "    \n",
    "    return prediction_bands, quantile, mean_predictions"
   ]
  },
  {
   "cell_type": "code",
   "execution_count": 134,
   "metadata": {},
   "outputs": [],
   "source": [
    "def weighted_split_conformal_prediction(predictor, X_cal, y_cal, X_test, cal_weights, alpha=0.95):\n",
    "    \"\"\" Weighted Split Conformal Prediction (taken from github.io/code/nonexchangeable_conformal.zip) \"\"\"\n",
    "\n",
    "    # normalize weights (we add +1 in the denominator for the test point at n+1)\n",
    "    weights_normalized = cal_weights / (np.sum(cal_weights)+1)\n",
    "\n",
    "    if(np.sum(weights_normalized) >= 1-alpha):\n",
    "        # calibration scores: |y_i - x_i @ betahat|\n",
    "        R = np.abs(y_cal - predictor.predict(X_cal))\n",
    "        ord_R = np.argsort(R)\n",
    "        # from when are the cumulative quantiles at least 1-\\alpha\n",
    "        ind_thresh = np.min(np.where(np.cumsum(weights_normalized[ord_R])>=1-alpha))\n",
    "        # get the corresponding residual\n",
    "        quantile = np.sort(R)[ind_thresh]\n",
    "    else:\n",
    "        quantile = np.inf\n",
    "    \n",
    "    # Standard prediction intervals using the absolute residual score quantile\n",
    "    mean_prediction = predictor.predict(X_test)\n",
    "    prediction_bands = np.stack([\n",
    "        mean_prediction - quantile,\n",
    "        mean_prediction + quantile\n",
    "    ], axis=1)\n",
    "\n",
    "    return mean_prediction, prediction_bands, quantile"
   ]
  },
  {
   "cell_type": "markdown",
   "metadata": {},
   "source": [
    "# SIMULATION STUDY\n",
    "$$\\textbf{Setting 1: i.i.d. data} X_i \\sim \\mathcal{N}(0, \\textbf{I}_{4}) \\text{  and  } Y_i \\sim X_i^T\\beta + \\mathcal{N}(0, 1) $$\n",
    "\n",
    "We first let $\\beta = (2, 1, 0, 0)$\n"
   ]
  },
  {
   "cell_type": "code",
   "execution_count": null,
   "metadata": {},
   "outputs": [
    {
     "name": "stderr",
     "output_type": "stream",
     "text": [
      "  0%|          | 0/200 [00:00<?, ?it/s]\n"
     ]
    },
    {
     "ename": "IndexError",
     "evalue": "index 5 is out of bounds for axis 1 with size 4",
     "output_type": "error",
     "traceback": [
      "\u001b[0;31m---------------------------------------------------------------------------\u001b[0m",
      "\u001b[0;31mIndexError\u001b[0m                                Traceback (most recent call last)",
      "Cell \u001b[0;32mIn[142], line 43\u001b[0m\n\u001b[1;32m     40\u001b[0m idx_even \u001b[38;5;241m=\u001b[39m np\u001b[38;5;241m.\u001b[39marange(\u001b[38;5;241m0\u001b[39m, \u001b[38;5;28mint\u001b[39m(np\u001b[38;5;241m.\u001b[39mfloor(pred_idx \u001b[38;5;241m/\u001b[39m \u001b[38;5;241m2\u001b[39m) \u001b[38;5;241m*\u001b[39m \u001b[38;5;241m2\u001b[39m), \u001b[38;5;241m2\u001b[39m)\n\u001b[1;32m     42\u001b[0m predictor \u001b[38;5;241m=\u001b[39m LinearRegression()\n\u001b[0;32m---> 43\u001b[0m predictor\u001b[38;5;241m.\u001b[39mfit(\u001b[43mX\u001b[49m\u001b[43m[\u001b[49m\u001b[43mtrial\u001b[49m\u001b[43m,\u001b[49m\u001b[43m \u001b[49m\u001b[43midx_odd\u001b[49m\u001b[43m]\u001b[49m, Y[trial, idx_odd], tags[idx_odd])\n\u001b[1;32m     45\u001b[0m mean_predictions, prediction_bands, quantile \u001b[38;5;241m=\u001b[39m weighted_split_conformal_prediction(\n\u001b[1;32m     46\u001b[0m     predictor, \n\u001b[1;32m     47\u001b[0m     X[trial, idx_even],\n\u001b[0;32m   (...)\u001b[0m\n\u001b[1;32m     51\u001b[0m     alpha\n\u001b[1;32m     52\u001b[0m )\n\u001b[1;32m     54\u001b[0m PI_split_CP[method_idx, trial, pred_idx, :] \u001b[38;5;241m=\u001b[39m prediction_bands\n",
      "\u001b[0;31mIndexError\u001b[0m: index 5 is out of bounds for axis 1 with size 4"
     ]
    }
   ],
   "source": [
    "np.random.seed(12345)\n",
    "N = 1000\n",
    "beta = [2, 1, 0, 0]\n",
    "alpha = 0.1\n",
    "ntrial = 200\n",
    "train_lag = 100\n",
    "\n",
    "\n",
    "rho = rho_ls = 0.99\n",
    "# Data generation\n",
    "X = np.random.randn(N, 4)\n",
    "Y = np.dot(X, beta) + np.random.randn(N)\n",
    "\n",
    "# Methods\n",
    "methods = [\"CP+LS\", \"NexCP+LS\", \"NexCP+WLS\"]\n",
    "\n",
    "# Initialize prediction intervals\n",
    "PI_split_CP = np.zeros((len(methods), ntrial, N, 2))\n",
    "PI_split_CP[:, :, :train_lag, 0] = -np.inf\n",
    "PI_split_CP[:, :, :train_lag, 1] = np.inf\n",
    "\n",
    "# Main loop\n",
    "for trial in tqdm(np.arange(ntrial)):\n",
    "    for pred_idx in range(train_lag, N):\n",
    "        for method_idx, method in enumerate(methods):\n",
    "            if method == \"CP+LS\":\n",
    "                tags = np.ones(pred_idx)\n",
    "            else:\n",
    "                weights = rho ** np.arange(pred_idx, 0, -1)\n",
    "                weights = np.append(weights, 1)  # Fix append\n",
    "\n",
    "            if method == \"NexCP+WLS\":\n",
    "                tags = rho_ls ** np.arange(pred_idx, -1, -1)\n",
    "            else:\n",
    "                tags = np.ones(pred_idx)  # Default tags for other methods\n",
    "\n",
    "            idx_odd = np.arange(1, int(np.ceil(pred_idx / 2) * 2), 2)\n",
    "            idx_even = np.arange(0, int(np.floor(pred_idx / 2) * 2), 2)\n",
    "\n",
    "            predictor = LinearRegression()\n",
    "            predictor.fit(X[idx_odd], Y[idx_odd], tags[idx_odd])  # Correct indexing\n",
    "\n",
    "            mean_predictions, prediction_bands, quantile = weighted_split_conformal_prediction(\n",
    "                predictor,\n",
    "                X[idx_even],\n",
    "                Y[idx_even],\n",
    "                X[pred_idx][np.newaxis, :],  # Correct indexing\n",
    "                weights[idx_even],\n",
    "                alpha\n",
    "            )\n",
    "\n",
    "            PI_split_CP[method_idx, trial, pred_idx, :] = prediction_bands\n",
    "\n",
    "print(\"Finished processing.\")\n"
   ]
  },
  {
   "cell_type": "code",
   "execution_count": null,
   "metadata": {},
   "outputs": [
    {
     "data": {
      "text/plain": [
       "(1000,)"
      ]
     },
     "execution_count": 141,
     "metadata": {},
     "output_type": "execute_result"
    }
   ],
   "source": [
    "Y.shape"
   ]
  },
  {
   "cell_type": "code",
   "execution_count": null,
   "metadata": {},
   "outputs": [],
   "source": []
  }
 ],
 "metadata": {
  "kernelspec": {
   "display_name": "venv",
   "language": "python",
   "name": "python3"
  },
  "language_info": {
   "codemirror_mode": {
    "name": "ipython",
    "version": 3
   },
   "file_extension": ".py",
   "mimetype": "text/x-python",
   "name": "python",
   "nbconvert_exporter": "python",
   "pygments_lexer": "ipython3",
   "version": "3.10.10"
  }
 },
 "nbformat": 4,
 "nbformat_minor": 2
}
