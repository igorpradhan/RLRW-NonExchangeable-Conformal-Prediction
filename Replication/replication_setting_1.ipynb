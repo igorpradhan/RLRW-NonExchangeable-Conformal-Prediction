{
 "cells": [
  {
   "cell_type": "code",
   "execution_count": 6,
   "metadata": {},
   "outputs": [],
   "source": [
    "import numpy as np\n",
    "import matplotlib.pyplot as plt\n",
    "\n",
    "from tqdm import tqdm\n",
    "from sklearn.linear_model import LinearRegression\n",
    "\n",
    "from utils.plot_utils import regression_plot_with_uncertainty, regression_plot_with_scores\n",
    "from utils.Prediction_bands import(split_conformal_bands,\n",
    "                                   weighted_conformal_prediction\n",
    "                                   \n",
    ")\n",
    "from concurrent.futures import ThreadPoolExecutor\n",
    "\n",
    "from scipy.stats import multivariate_normal, norm\n"
   ]
  },
  {
   "cell_type": "code",
   "execution_count": 30,
   "metadata": {},
   "outputs": [],
   "source": [
    "def __start__pred__(X, Y, alpha, rho, train_lag, rho_ls, ntrial, N):\n",
    "    methods = [\"CP+LS\", \"NexCP+LS\", \"NexCP+WLS\"]\n",
    "\n",
    "    # Initialize prediction intervals\n",
    "    PI_split_CP = np.zeros((len(methods), ntrial, N, 2))\n",
    "    PI_split_CP[:, :, :train_lag, 0] = -np.inf\n",
    "    PI_split_CP[:, :, :train_lag, 1] = np.inf\n",
    "\n",
    "    # Main loop\n",
    "    for trial in tqdm(np.arange(ntrial)):\n",
    "        for pred_idx in range(train_lag, N):\n",
    "            for method_idx, method in enumerate(methods):\n",
    "                if method == \"CP+LS\":\n",
    "                    weights = np.ones(pred_idx+1)\n",
    "                    tags = np.ones(pred_idx)\n",
    "                else:\n",
    "                    weights = rho ** np.arange(pred_idx, 0, -1)\n",
    "                    weights = np.r_[weights, 1]  # Fix append\n",
    "\n",
    "                if method == \"NexCP+WLS\":\n",
    "                    tags = rho_ls ** np.arange(pred_idx, -1, -1)\n",
    "                else:\n",
    "                    tags = np.ones(pred_idx + 1)  # Default tags for other methods\n",
    "\n",
    "                idx_odd = np.arange(1, int(np.ceil(pred_idx / 2) * 2), 2)\n",
    "                idx_even = np.arange(0, int(np.floor(pred_idx / 2) * 2), 2)\n",
    "\n",
    "                predictor = LinearRegression()\n",
    "                predictor.fit(X[idx_odd], Y[idx_odd], tags[idx_odd])  # Correct indexing\n",
    "\n",
    "                mean_predictions, prediction_bands, quantile = weighted_split_conformal_prediction(\n",
    "                    predictor,\n",
    "                    X[idx_even],\n",
    "                    Y[idx_even],\n",
    "                    X[pred_idx][np.newaxis, :],  # Correct indexing\n",
    "                    weights[idx_even],\n",
    "                    alpha\n",
    "                )\n",
    "\n",
    "                PI_split_CP[method_idx, trial, pred_idx, :] = prediction_bands\n",
    "    \n",
    "    print(\"Finished processing.\")\n",
    "    return PI_split_CP"
   ]
  },
  {
   "cell_type": "markdown",
   "metadata": {},
   "source": [
    "# SIMULATION STUDY\n",
    "$$\\textbf{Setting 1: i.i.d. data} X_i \\sim \\mathcal{N}(0, \\textbf{I}_{4}) \\text{  and  } Y_i \\sim X_i^T\\beta + \\mathcal{N}(0, 1) $$\n",
    "\n",
    "We first let $\\beta = (2, 1, 0, 0)$\n"
   ]
  },
  {
   "cell_type": "markdown",
   "metadata": {},
   "source": [
    "Generate data\n"
   ]
  },
  {
   "cell_type": "code",
   "execution_count": 27,
   "metadata": {},
   "outputs": [],
   "source": [
    "np.random.seed(12345)\n",
    "N = 2000\n",
    "beta = [2, 1, 0, 0]\n",
    "alpha = 0.1\n",
    "ntrial = 200\n",
    "train_lag = 100\n",
    "methods = ['CP+LS', 'nexCP+LS', 'nexCP+WLS', \"gaussian\"]\n",
    "\n",
    "rho = rho_ls = 0.99\n",
    "# Data generation\n",
    "X = np.random.normal(size = (ntrial, N, 4))\n",
    "Y = np.zeros((ntrial, N))\n",
    "\n",
    "noise = np.random.normal(size =(ntrial, N))\n",
    "\n",
    "for i in np.arange(N):\n",
    "    Y[:, i] = np.dot(X[:, i], beta) + noise[:, i]"
   ]
  },
  {
   "cell_type": "code",
   "execution_count": 28,
   "metadata": {},
   "outputs": [],
   "source": [
    "PI_split_CP = np.zeros((len(methods),ntrial,N,2))\n",
    "PI_split_CP[:, :, :train_lag, 0] = -np.inf\n",
    "PI_split_CP[:, :, :train_lag, 1] = np.inf\n",
    "all_weights = np.empty((len(methods), ntrial, N), dtype=object)"
   ]
  },
  {
   "cell_type": "code",
   "execution_count": 79,
   "metadata": {},
   "outputs": [],
   "source": [
    "def run_trial(itrial):\n",
    "    for pred_idx in np.arange(train_lag, N):\n",
    "        # we predict the point at pred_idx (n+1) starting at pred_idx=train_lag (101-th datapoint)\n",
    "\n",
    "        for method_idx, method in enumerate(methods):\n",
    "            # calibration weights for non-exchangeable conformal prediction (nexCP)\n",
    "            if method in ['nexCP+LS', 'nexCP+WLS']:\n",
    "                # weights at 1, ..., n (notice: in Python arrays this becomes 0, ..., n-1)\n",
    "                weights = rho**(np.arange(pred_idx, 0, -1))\n",
    "                # weight n+1 should always be 1\n",
    "                weights = np.r_[weights, 1]\n",
    "        \n",
    "            elif method == \"gaussian\":\n",
    "                # h = 1.06 * np.std(Y[itrial, :pred_idx], ddof=1) * (pred_idx + 1)**(-1/5)\n",
    "                h = 1.06 * np.std(X[itrial, :pred_idx], ddof=1) * (pred_idx + 1)**(-1/5)\n",
    "                # h = h[0]  \n",
    "                # h = 1.5\n",
    "\n",
    "                \n",
    "                X_tilde = multivariate_normal.rvs(mean=X[itrial - 1, pred_idx], cov=np.diag(np.ones(4)) * h**2)\n",
    "                weights = np.exp(-0.5 * np.sum(X[itrial, :pred_idx] - X_tilde, axis=1) / h**2)\n",
    "                weights = np.r_[weights, 1]\n",
    "                \n",
    "            else:\n",
    "                weights = np.ones(pred_idx + 1)\n",
    "            \n",
    "            # weights for weighted linear regression (WLS)\n",
    "            if method == 'nexCP+WLS':\n",
    "                # tags 1, ..., n+1\n",
    "                tags = rho_LS**(np.arange(pred_idx, -1, -1))\n",
    "                \n",
    "            elif method == 'gaussian':\n",
    "                tags = weights\n",
    "            else:\n",
    "                tags = np.ones(pred_idx + 1)\n",
    "            \n",
    "            # odd data points for training, even ones for calibration\n",
    "            inds_odd = np.arange(1, int(np.ceil(pred_idx / 2) * 2 - 1), 2)  # excludes pred_idx\n",
    "            inds_even = np.arange(2, int(np.floor(pred_idx / 2) * 2), 2)  # excludes pred_idx\n",
    "\n",
    "            # Ensure X_train and Y_train are reshaped correctly\n",
    "            X_train = X[itrial, inds_odd]\n",
    "            Y_train = Y[itrial, inds_odd]\n",
    "\n",
    "            if X_train.shape[0] != Y_train.shape[0] or X_train.shape[0] != tags[inds_odd].shape[0]:\n",
    "                print(f\"Shape mismatch at itrial: {itrial}, pred_idx: {pred_idx}, method: {method}\")\n",
    "                print(f\"X_train shape: {X_train.shape}\")\n",
    "                print(f\"Y_train shape: {Y_train.shape}\")\n",
    "                print(f\"tags[inds_odd] shape: {tags[inds_odd].shape}\")\n",
    "                continue  # Skip to the next iteration if shapes do not match\n",
    "\n",
    "            predictor = LinearRegression()\n",
    "            if method == 'CP+LS':\n",
    "                predictor.fit(X_train, Y_train)\n",
    "            else:     \n",
    "                predictor.fit(X_train, Y_train, sample_weight=tags[inds_odd])\n",
    "\n",
    "            _, prediction_bands, _, _ = weighted_conformal_prediction(\n",
    "                predictor,  # the trained weighted linear regression model\n",
    "                X[itrial, inds_even],  # calibration inputs\n",
    "                Y[itrial, inds_even],  # calibration targets\n",
    "                X[itrial, pred_idx][np.newaxis, :],  # test point to predict\n",
    "                weights[inds_even],  # calibration score weights\n",
    "                alpha  # target miscoverage rate\n",
    "            )\n",
    "            PI_split_CP[method_idx, itrial, pred_idx, :] = prediction_bands\n",
    "            \n",
    "            if pred_idx == N - 1:\n",
    "                weights_normalised = weights / np.sum(weights)\n",
    "                all_weights[method_idx, itrial, :len(weights)] = weights_normalised\n",
    "                \n",
    "\n"
   ]
  },
  {
   "cell_type": "code",
   "execution_count": 80,
   "metadata": {},
   "outputs": [
    {
     "name": "stderr",
     "output_type": "stream",
     "text": [
      "  0%|          | 0/200 [00:00<?, ?it/s]"
     ]
    },
    {
     "name": "stderr",
     "output_type": "stream",
     "text": [
      "100%|██████████| 200/200 [13:25<00:00,  4.03s/it]\n"
     ]
    }
   ],
   "source": [
    "for i in tqdm(np.arange(ntrial)):\n",
    "    run_trial(i)"
   ]
  },
  {
   "cell_type": "code",
   "execution_count": 81,
   "metadata": {},
   "outputs": [
    {
     "data": {
      "text/plain": [
       "(200, 2000, 4)"
      ]
     },
     "execution_count": 81,
     "metadata": {},
     "output_type": "execute_result"
    }
   ],
   "source": [
    "X.shape"
   ]
  },
  {
   "cell_type": "code",
   "execution_count": 82,
   "metadata": {},
   "outputs": [
    {
     "data": {
      "text/plain": [
       "(4, 200, 2000, 2)"
      ]
     },
     "execution_count": 82,
     "metadata": {},
     "output_type": "execute_result"
    }
   ],
   "source": [
    "PI_split_CP.shape"
   ]
  },
  {
   "cell_type": "code",
   "execution_count": 83,
   "metadata": {},
   "outputs": [],
   "source": [
    "methods = [\"CP+LS\", \"NexCP+LS\", \"NexCP+WLS\", \"gaussian\"]"
   ]
  },
  {
   "cell_type": "code",
   "execution_count": 84,
   "metadata": {},
   "outputs": [],
   "source": [
    "coverage = np.zeros((len(methods), N - train_lag))\n",
    "pi_width = np.zeros((len(methods), N - train_lag))\n",
    "\n",
    "# compute coverage for each time step and trial\n",
    "for method_idx, method in enumerate(methods):\n",
    "    lower_bound = PI_split_CP[method_idx, :, train_lag:, 0]\n",
    "    upper_bound = PI_split_CP[method_idx, :, train_lag:, 1]\n",
    "\n",
    "    # Ensure that lower_bound, upper_bound, and Y[:, train_lag:] have the same shape\n",
    "    assert lower_bound.shape == upper_bound.shape == Y[:, train_lag:].shape, \\\n",
    "        f\"Shape mismatch: {lower_bound.shape}, {upper_bound.shape}, {Y[:, train_lag:].shape}\"\n",
    "\n",
    "    # coverage is averaged over ntrials\n",
    "    coverage[method_idx] = np.mean((lower_bound <= Y[:, train_lag:]) & (upper_bound >= Y[:, train_lag:]), axis=0)\n",
    "    pi_width[method_idx] = np.mean(upper_bound - lower_bound, axis=0)\n"
   ]
  },
  {
   "cell_type": "code",
   "execution_count": 85,
   "metadata": {},
   "outputs": [
    {
     "data": {
      "text/plain": [
       "array([4.13082643, 4.07011695, 4.07011695, ..., 3.30093254, 3.30093254,\n",
       "       3.30112421])"
      ]
     },
     "execution_count": 85,
     "metadata": {},
     "output_type": "execute_result"
    }
   ],
   "source": [
    "lower_bound_gauss = PI_split_CP[3, :, train_lag:, 0]\n",
    "upper_bound_gauss = PI_split_CP[3, :, train_lag:, 1]\n",
    "\n",
    "upper_bound_gauss[0] - lower_bound_gauss[0]"
   ]
  },
  {
   "cell_type": "code",
   "execution_count": 86,
   "metadata": {},
   "outputs": [
    {
     "data": {
      "text/plain": [
       "(200, 1900)"
      ]
     },
     "execution_count": 86,
     "metadata": {},
     "output_type": "execute_result"
    }
   ],
   "source": [
    "Y[:, train_lag:].shape"
   ]
  },
  {
   "cell_type": "code",
   "execution_count": 89,
   "metadata": {},
   "outputs": [
    {
     "data": {
      "image/png": "[encoded data removed]",
      "text/plain": [
       "<Figure size 2500x400 with 2 Axes>"
      ]
     },
     "metadata": {},
     "output_type": "display_data"
    }
   ],
   "source": [
    "plt.rcParams.update({'font.size': 14})\n",
    "\n",
    "window = 10 # will display a rolling average\n",
    "\n",
    "def rolling_avg(x,window):\n",
    "    return np.convolve(x, np.ones(window)/window)[(window-1):-window]\n",
    "    \n",
    "fig, ax = plt.subplots(nrows=1, ncols=2, figsize=(25,4))\n",
    "\n",
    "for method_idx, method in enumerate(methods):\n",
    "    ax[0].plot(np.arange(train_lag+window,N), rolling_avg(coverage[method_idx], window))\n",
    "    ax[1].plot(np.arange(train_lag, N), pi_width[method_idx])\n",
    "\n",
    "ax[0].hlines(1-alpha, xmin=train_lag, xmax=N, linestyles='--', colors='gray')\n",
    "ax[0].legend(['CP-LS','nexCP+LS','nexCP+WLS', \"gaussian kernel\"])\n",
    "\n",
    "ax[0].set_ylabel('Coverage')\n",
    "ax[0].set_ylim([0, 1])\n",
    "ax[0].set_yticks([0, 0.1, 0.2, 0.3, 0.4, 0.5, 0.6, 0.7, 0.8, 0.9, 1])\n",
    "ax[0].set_xlabel('Time')\n",
    "ax[0].grid(True)\n",
    "\n",
    "ax[1].set_ylabel('Width')\n",
    "ymax = np.max([\n",
    "    pi_width[method_idx].max() for method_idx in range(len(methods))\n",
    "]) * 1.1\n",
    "ax[1].set_ylim([0, ymax])\n",
    "ax[1].set_yticks([0, 2, 4, 6])\n",
    "ax[1].set_xlabel('Time')\n",
    "ax[1].grid(True)\n",
    "\n",
    "plt.savefig('simulation_1.png')\n",
    "plt.show()"
   ]
  },
  {
   "cell_type": "code",
   "execution_count": 88,
   "metadata": {},
   "outputs": [
    {
     "name": "stdout",
     "output_type": "stream",
     "text": [
      "CP+LS\n",
      "----------\n",
      "Avg. coverage: 0.899\n",
      "Avg. interval width: 3.32\n",
      "\n",
      "NexCP+LS\n",
      "----------\n",
      "Avg. coverage: 0.899\n",
      "Avg. interval width: 3.32\n",
      "\n",
      "NexCP+WLS\n",
      "----------\n",
      "Avg. coverage: 0.899\n",
      "Avg. interval width: 3.32\n",
      "\n",
      "gaussian\n",
      "----------\n",
      "Avg. coverage: 0.899\n",
      "Avg. interval width: 3.32\n",
      "\n"
     ]
    }
   ],
   "source": [
    "for method_idx, method in enumerate(methods):\n",
    "    print(f'{method}')\n",
    "    print('-'*10)\n",
    "    print(f'Avg. coverage: {np.mean(coverage[method_idx]):.3f}')\n",
    "    print(f'Avg. interval width: {np.mean(pi_width[method_idx]):.2f}')\n",
    "    print()"
   ]
  },
  {
   "cell_type": "code",
   "execution_count": 46,
   "metadata": {},
   "outputs": [
    {
     "data": {
      "text/html": [
       "<div>\n",
       "<style scoped>\n",
       "    .dataframe tbody tr th:only-of-type {\n",
       "        vertical-align: middle;\n",
       "    }\n",
       "\n",
       "    .dataframe tbody tr th {\n",
       "        vertical-align: top;\n",
       "    }\n",
       "\n",
       "    .dataframe thead th {\n",
       "        text-align: right;\n",
       "    }\n",
       "</style>\n",
       "<table border=\"1\" class=\"dataframe\">\n",
       "  <thead>\n",
       "    <tr style=\"text-align: right;\">\n",
       "      <th></th>\n",
       "      <th>Method</th>\n",
       "      <th>Avg. Coverage</th>\n",
       "      <th>Avg. Interval Width</th>\n",
       "    </tr>\n",
       "  </thead>\n",
       "  <tbody>\n",
       "    <tr>\n",
       "      <th>0</th>\n",
       "      <td>CP+LS</td>\n",
       "      <td>0.901905</td>\n",
       "      <td>3.346911</td>\n",
       "    </tr>\n",
       "    <tr>\n",
       "      <th>1</th>\n",
       "      <td>NexCP+LS</td>\n",
       "      <td>0.915005</td>\n",
       "      <td>3.512541</td>\n",
       "    </tr>\n",
       "    <tr>\n",
       "      <th>2</th>\n",
       "      <td>NexCP+WLS</td>\n",
       "      <td>0.914595</td>\n",
       "      <td>3.576508</td>\n",
       "    </tr>\n",
       "  </tbody>\n",
       "</table>\n",
       "</div>"
      ],
      "text/plain": [
       "      Method  Avg. Coverage  Avg. Interval Width\n",
       "0      CP+LS       0.901905             3.346911\n",
       "1   NexCP+LS       0.915005             3.512541\n",
       "2  NexCP+WLS       0.914595             3.576508"
      ]
     },
     "execution_count": 46,
     "metadata": {},
     "output_type": "execute_result"
    }
   ],
   "source": [
    "import pandas as pd\n",
    "data = {'Method': methods,\n",
    "    'Avg. Coverage': [np.mean(coverage[method_idx]) for method_idx in range(len(methods))],\n",
    "    'Avg. Interval Width': [np.mean(pi_width[method_idx]) for method_idx in range(len(methods))]}\n",
    "df = pd.DataFrame(data)\n",
    "\n",
    "df.head()\n"
   ]
  },
  {
   "cell_type": "code",
   "execution_count": 53,
   "metadata": {},
   "outputs": [
    {
     "name": "stdout",
     "output_type": "stream",
     "text": [
      "Requirement already satisfied: pyperclip in /Users/igor.ap/Downloads/Thesis files/Code/THESIS/.venv/lib/python3.10/site-packages (1.8.2)\n"
     ]
    }
   ],
   "source": [
    "!pip install pyperclip"
   ]
  },
  {
   "cell_type": "code",
   "execution_count": 54,
   "metadata": {},
   "outputs": [
    {
     "name": "stdout",
     "output_type": "stream",
     "text": [
      "LaTeX table copied to clipboard.\n"
     ]
    }
   ],
   "source": [
    "import pyperclip\n",
    "latex_table = df.to_latex(index=False, float_format=\"%.3f\", column_format=\"lcc\")\n",
    "pyperclip.copy(latex_table)\n",
    "print(\"LaTeX table copied to clipboard.\")\n"
   ]
  },
  {
   "cell_type": "code",
   "execution_count": null,
   "metadata": {},
   "outputs": [],
   "source": []
  }
 ],
 "metadata": {
  "kernelspec": {
   "display_name": "venv",
   "language": "python",
   "name": "python3"
  },
  "language_info": {
   "codemirror_mode": {
    "name": "ipython",
    "version": 3
   },
   "file_extension": ".py",
   "mimetype": "text/x-python",
   "name": "python",
   "nbconvert_exporter": "python",
   "pygments_lexer": "ipython3",
   "version": "3.10.10"
  }
 },
 "nbformat": 4,
 "nbformat_minor": 2
}
